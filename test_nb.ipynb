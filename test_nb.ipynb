{
 "metadata": {
  "language_info": {
   "codemirror_mode": {
    "name": "ipython",
    "version": 3
   },
   "file_extension": ".py",
   "mimetype": "text/x-python",
   "name": "python",
   "nbconvert_exporter": "python",
   "pygments_lexer": "ipython3",
   "version": 3
  },
  "orig_nbformat": 2
 },
 "nbformat": 4,
 "nbformat_minor": 2,
 "cells": [
  {
   "cell_type": "code",
   "execution_count": null,
   "metadata": {},
   "outputs": [],
   "source": [
    "# Set Up Environment\n",
    "from kaggle_environments import evaluate, make\n",
    "env = make(\"halite\", configuration={ \"episodeSteps\": 400 }, debug=True)\n",
    "print (env.configuration)"
   ]
  },
  {
   "cell_type": "code",
   "execution_count": null,
   "metadata": {},
   "outputs": [],
   "source": [
    "env.run([\"bot_test.py\", \"random\",\"random\",\"random\"])\n",
    "env.render(mode=\"ipython\")"
   ]
  }
 ]
}